{
 "cells": [
  {
   "cell_type": "code",
   "execution_count": 1,
   "metadata": {},
   "outputs": [
    {
     "data": {
      "text/plain": [
       "True"
      ]
     },
     "execution_count": 1,
     "metadata": {},
     "output_type": "execute_result"
    }
   ],
   "source": [
    "import re\n",
    "import psycopg2\n",
    "from collections import Counter\n",
    "from datetime import datetime\n",
    "from dotenv import load_dotenv\n",
    "import os\n",
    "\n",
    "load_dotenv()\n"
   ]
  },
  {
   "cell_type": "code",
   "execution_count": 2,
   "metadata": {},
   "outputs": [],
   "source": [
    "\n",
    "LOG_FILE = \"test_access.log\"  # <-- Pointing to test log\n",
    "\n",
    "ERROR_PATTERN = re.compile(r'(\\d{3})\\s.*CN=([a-zA-Z0-9.-]+)')\n",
    "\n",
    "DB_CONFIG = {\n",
    "    \"dbname\": os.getenv(\"DB_NAME\"),\n",
    "    \"user\": os.getenv(\"DB_USER\"),\n",
    "    \"password\": os.getenv(\"DB_PASSWORD\"),\n",
    "    \"host\": os.getenv(\"DB_HOSTS\"),\n",
    "    \"port\": 5432,\n",
    "}\n",
    "\n",
    "CREATE_TABLE_HTTP = \"\"\"\n",
    "CREATE TABLE IF NOT EXISTS http_status_counts (\n",
    "    id SERIAL PRIMARY KEY,\n",
    "    status_code INT NOT NULL,\n",
    "    count INT NOT NULL,\n",
    "    timestamp TIMESTAMP DEFAULT CURRENT_TIMESTAMP\n",
    ");\n",
    "\"\"\"\n",
    "\n",
    "CREATE_TABLE_CN = \"\"\"\n",
    "CREATE TABLE IF NOT EXISTS cn_counts (\n",
    "    id SERIAL PRIMARY KEY,\n",
    "    cn TEXT NOT NULL,\n",
    "    count INT NOT NULL,\n",
    "    timestamp TIMESTAMP DEFAULT CURRENT_TIMESTAMP\n",
    ");\n",
    "\"\"\"\n"
   ]
  },
  {
   "cell_type": "code",
   "execution_count": 4,
   "metadata": {},
   "outputs": [
    {
     "name": "stdout",
     "output_type": "stream",
     "text": [
      "HTTP Status Counts: Counter({'400': 30, '200': 15})\n",
      "CN Counts: Counter({'example1.com': 29, 'idriss.test-home': 1})\n",
      "✅ Data inserted at 2025-03-18 06:02:41.865164\n"
     ]
    }
   ],
   "source": [
    "\n",
    "def parse_http_statuses(log_file):\n",
    "    status_pattern = re.compile(r'\\s(\\d{3})\\s')\n",
    "    counter = Counter()\n",
    "\n",
    "    with open(log_file, \"r\") as file:\n",
    "        for line in file:\n",
    "            match = status_pattern.search(line)\n",
    "            if match:\n",
    "                status_code = match.group(1)\n",
    "                counter[status_code] += 1\n",
    "\n",
    "    print(\"HTTP Status Counts:\", counter)\n",
    "    return counter\n",
    "\n",
    "def parse_bad_cns(log_file):\n",
    "    counter = Counter()\n",
    "\n",
    "    with open(log_file, \"r\") as file:\n",
    "        for line in file:\n",
    "            match = ERROR_PATTERN.search(line)\n",
    "            if match:\n",
    "                status_code = match.group(1)\n",
    "                cn = match.group(2)\n",
    "                \n",
    "                if status_code == \"400\":\n",
    "                    counter[cn] += 1\n",
    "\n",
    "    print(\"CN Counts:\", counter)\n",
    "    return counter\n",
    "\n",
    "def insert_into_db(status_counts, cn_counts):\n",
    "    conn = psycopg2.connect(**DB_CONFIG)\n",
    "    cur = conn.cursor()\n",
    "    \n",
    "    cur.execute(CREATE_TABLE_HTTP)\n",
    "    cur.execute(CREATE_TABLE_CN)\n",
    "\n",
    "    for status, count in status_counts.items():\n",
    "        cur.execute(\n",
    "            \"INSERT INTO http_status_counts (status_code, count, timestamp) VALUES (%s, %s, %s);\",\n",
    "            (status, count, datetime.now()),\n",
    "        )\n",
    "\n",
    "    for cn, count in cn_counts.items():\n",
    "        cur.execute(\n",
    "            \"INSERT INTO cn_counts (cn, count, timestamp) VALUES (%s, %s, %s);\",\n",
    "            (cn, count, datetime.now()),\n",
    "        )\n",
    "\n",
    "    conn.commit()\n",
    "    cur.close()\n",
    "    conn.close()\n",
    "    print(f\"✅ Data inserted at {datetime.now()}\")\n",
    "\n",
    "if __name__ == \"__main__\":\n",
    "    http_counts = parse_http_statuses(LOG_FILE)\n",
    "    cn_counts = parse_bad_cns(LOG_FILE)\n",
    "\n",
    "    if http_counts or cn_counts:\n",
    "        insert_into_db(http_counts, cn_counts)\n",
    "    else:\n",
    "        print(f\"⚠️ No new data found at {datetime.now()}\")\n"
   ]
  }
 ],
 "metadata": {
  "kernelspec": {
   "display_name": "ace",
   "language": "python",
   "name": "python3"
  },
  "language_info": {
   "codemirror_mode": {
    "name": "ipython",
    "version": 3
   },
   "file_extension": ".py",
   "mimetype": "text/x-python",
   "name": "python",
   "nbconvert_exporter": "python",
   "pygments_lexer": "ipython3",
   "version": "3.9.6"
  }
 },
 "nbformat": 4,
 "nbformat_minor": 2
}
